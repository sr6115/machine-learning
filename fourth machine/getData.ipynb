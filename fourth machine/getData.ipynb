{
 "cells": [
  {
   "cell_type": "code",
   "execution_count": 2,
   "metadata": {},
   "outputs": [],
   "source": [
    "# to import the data that will be used later\n",
    "import numpy as np\n",
    "import pandas as pd\n",
    "\n",
    "# read the data in the file and set the columns for these data\n",
    "# data = pd.read_csv('dataInfo_2016_12.CSV',header=None, names=[\"date_time\", \"id\",\"number\"])\n",
    "data = pd.read_csv('dataInfo_2017.CSV',header=None, names=[\"date_time\", \"id\",\"number\"])"
   ]
  },
  {
   "cell_type": "code",
   "execution_count": 3,
   "metadata": {},
   "outputs": [
    {
     "data": {
      "text/html": [
       "<div>\n",
       "<style>\n",
       "    .dataframe thead tr:only-child th {\n",
       "        text-align: right;\n",
       "    }\n",
       "\n",
       "    .dataframe thead th {\n",
       "        text-align: left;\n",
       "    }\n",
       "\n",
       "    .dataframe tbody tr th {\n",
       "        vertical-align: top;\n",
       "    }\n",
       "</style>\n",
       "<table border=\"1\" class=\"dataframe\">\n",
       "  <thead>\n",
       "    <tr style=\"text-align: right;\">\n",
       "      <th></th>\n",
       "      <th>date_time</th>\n",
       "      <th>id</th>\n",
       "      <th>number</th>\n",
       "    </tr>\n",
       "  </thead>\n",
       "  <tbody>\n",
       "    <tr>\n",
       "      <th>0</th>\n",
       "      <td>2017/1/1 0:00</td>\n",
       "      <td>960111FF07FF104A</td>\n",
       "      <td>514286.406</td>\n",
       "    </tr>\n",
       "    <tr>\n",
       "      <th>1</th>\n",
       "      <td>2017/1/1 0:00</td>\n",
       "      <td>960111FF07FF127E</td>\n",
       "      <td>0.000</td>\n",
       "    </tr>\n",
       "    <tr>\n",
       "      <th>2</th>\n",
       "      <td>2017/1/1 0:00</td>\n",
       "      <td>960111FF07FF127F</td>\n",
       "      <td>0.000</td>\n",
       "    </tr>\n",
       "    <tr>\n",
       "      <th>3</th>\n",
       "      <td>2017/1/1 0:00</td>\n",
       "      <td>960111FF07FF1280</td>\n",
       "      <td>0.000</td>\n",
       "    </tr>\n",
       "    <tr>\n",
       "      <th>4</th>\n",
       "      <td>2017/1/1 0:00</td>\n",
       "      <td>960111FF07FF128E</td>\n",
       "      <td>0.000</td>\n",
       "    </tr>\n",
       "  </tbody>\n",
       "</table>\n",
       "</div>"
      ],
      "text/plain": [
       "       date_time                id      number\n",
       "0  2017/1/1 0:00  960111FF07FF104A  514286.406\n",
       "1  2017/1/1 0:00  960111FF07FF127E       0.000\n",
       "2  2017/1/1 0:00  960111FF07FF127F       0.000\n",
       "3  2017/1/1 0:00  960111FF07FF1280       0.000\n",
       "4  2017/1/1 0:00  960111FF07FF128E       0.000"
      ]
     },
     "execution_count": 3,
     "metadata": {},
     "output_type": "execute_result"
    }
   ],
   "source": [
    "# to show part of the data that readed from the file\n",
    "data.head()"
   ]
  },
  {
   "cell_type": "code",
   "execution_count": 4,
   "metadata": {
    "collapsed": true
   },
   "outputs": [],
   "source": [
    "# for the reason that the ID in the file can be divided into two parts, the first part is the number of this particular machine, the second part is the signal which implies the situation that this data get \n",
    "data['id'], data['sub_id'] = map(data['id'].str.slice, [0, 10 ], [10, 16])"
   ]
  },
  {
   "cell_type": "code",
   "execution_count": 5,
   "metadata": {},
   "outputs": [
    {
     "data": {
      "text/html": [
       "<div>\n",
       "<style>\n",
       "    .dataframe thead tr:only-child th {\n",
       "        text-align: right;\n",
       "    }\n",
       "\n",
       "    .dataframe thead th {\n",
       "        text-align: left;\n",
       "    }\n",
       "\n",
       "    .dataframe tbody tr th {\n",
       "        vertical-align: top;\n",
       "    }\n",
       "</style>\n",
       "<table border=\"1\" class=\"dataframe\">\n",
       "  <thead>\n",
       "    <tr style=\"text-align: right;\">\n",
       "      <th></th>\n",
       "      <th>date_time</th>\n",
       "      <th>id</th>\n",
       "      <th>number</th>\n",
       "      <th>sub_id</th>\n",
       "    </tr>\n",
       "  </thead>\n",
       "  <tbody>\n",
       "    <tr>\n",
       "      <th>0</th>\n",
       "      <td>2017/1/1 0:00</td>\n",
       "      <td>960111FF07</td>\n",
       "      <td>514286.406</td>\n",
       "      <td>FF104A</td>\n",
       "    </tr>\n",
       "    <tr>\n",
       "      <th>1</th>\n",
       "      <td>2017/1/1 0:00</td>\n",
       "      <td>960111FF07</td>\n",
       "      <td>0.000</td>\n",
       "      <td>FF127E</td>\n",
       "    </tr>\n",
       "    <tr>\n",
       "      <th>2</th>\n",
       "      <td>2017/1/1 0:00</td>\n",
       "      <td>960111FF07</td>\n",
       "      <td>0.000</td>\n",
       "      <td>FF127F</td>\n",
       "    </tr>\n",
       "    <tr>\n",
       "      <th>3</th>\n",
       "      <td>2017/1/1 0:00</td>\n",
       "      <td>960111FF07</td>\n",
       "      <td>0.000</td>\n",
       "      <td>FF1280</td>\n",
       "    </tr>\n",
       "    <tr>\n",
       "      <th>4</th>\n",
       "      <td>2017/1/1 0:00</td>\n",
       "      <td>960111FF07</td>\n",
       "      <td>0.000</td>\n",
       "      <td>FF128E</td>\n",
       "    </tr>\n",
       "  </tbody>\n",
       "</table>\n",
       "</div>"
      ],
      "text/plain": [
       "       date_time          id      number  sub_id\n",
       "0  2017/1/1 0:00  960111FF07  514286.406  FF104A\n",
       "1  2017/1/1 0:00  960111FF07       0.000  FF127E\n",
       "2  2017/1/1 0:00  960111FF07       0.000  FF127F\n",
       "3  2017/1/1 0:00  960111FF07       0.000  FF1280\n",
       "4  2017/1/1 0:00  960111FF07       0.000  FF128E"
      ]
     },
     "execution_count": 5,
     "metadata": {},
     "output_type": "execute_result"
    }
   ],
   "source": [
    "# to show part of the ID that have been split\n",
    "data.head()"
   ]
  },
  {
   "cell_type": "code",
   "execution_count": 6,
   "metadata": {},
   "outputs": [
    {
     "name": "stdout",
     "output_type": "stream",
     "text": [
      "all ids for machines are as follows： \n",
      " ['960111FF07' '9601340000' '9601340101' '9601340102' '960111FF02'\n",
      " '960111FF03' '9601320B01' '960111FF04' '960111FF01' '9601210301'\n",
      " '9601430A01' '960111FF06' '960112FF01' '9601210302']\n",
      "0          960111FF07\n",
      "1          960111FF07\n",
      "2          960111FF07\n",
      "3          960111FF07\n",
      "4          960111FF07\n",
      "5          9601340000\n",
      "6          9601340000\n",
      "7          9601340000\n",
      "8          9601340000\n",
      "9          9601340000\n",
      "10         9601340000\n",
      "11         9601340000\n",
      "12         9601340000\n",
      "13         9601340000\n",
      "14         9601340000\n",
      "15         9601340101\n",
      "16         9601340101\n",
      "17         9601340101\n",
      "18         9601340101\n",
      "19         9601340101\n",
      "20         9601340101\n",
      "21         9601340000\n",
      "22         9601340000\n",
      "23         9601340000\n",
      "24         9601340000\n",
      "25         9601340000\n",
      "26         9601340000\n",
      "27         9601340000\n",
      "28         9601340000\n",
      "29         9601340000\n",
      "              ...    \n",
      "1048546    960111FF04\n",
      "1048547    960111FF04\n",
      "1048548    960111FF03\n",
      "1048549    960111FF02\n",
      "1048550    960111FF01\n",
      "1048551    9601320B01\n",
      "1048552    9601340102\n",
      "1048553    960111FF04\n",
      "1048554    9601320B01\n",
      "1048555    9601320B01\n",
      "1048556    960111FF02\n",
      "1048557    9601320B01\n",
      "1048558    9601340000\n",
      "1048559    960111FF01\n",
      "1048560    960111FF01\n",
      "1048561    960111FF01\n",
      "1048562    960111FF01\n",
      "1048563    9601340000\n",
      "1048564    9601320B01\n",
      "1048565    960111FF02\n",
      "1048566    9601320B01\n",
      "1048567    960111FF04\n",
      "1048568    960111FF01\n",
      "1048569    9601320B01\n",
      "1048570    960111FF02\n",
      "1048571    9601340000\n",
      "1048572    960111FF01\n",
      "1048573    9601320B01\n",
      "1048574    960111FF03\n",
      "1048575    960111FF04\n",
      "Name: id, Length: 1048576, dtype: object\n"
     ]
    }
   ],
   "source": [
    "# to get the id of all the machines in this file\n",
    "unique_id = data['id'].unique()\n",
    "# print all the unique id\n",
    "print('all ids for machines are as follows： \\n',unique_id)\n",
    "# print all the rows of the id of this file\n",
    "print(data['id'])"
   ]
  },
  {
   "cell_type": "code",
   "execution_count": 8,
   "metadata": {},
   "outputs": [
    {
     "data": {
      "text/html": [
       "<div>\n",
       "<style>\n",
       "    .dataframe thead tr:only-child th {\n",
       "        text-align: right;\n",
       "    }\n",
       "\n",
       "    .dataframe thead th {\n",
       "        text-align: left;\n",
       "    }\n",
       "\n",
       "    .dataframe tbody tr th {\n",
       "        vertical-align: top;\n",
       "    }\n",
       "</style>\n",
       "<table border=\"1\" class=\"dataframe\">\n",
       "  <thead>\n",
       "    <tr style=\"text-align: right;\">\n",
       "      <th></th>\n",
       "      <th>date_time</th>\n",
       "      <th>id</th>\n",
       "      <th>number</th>\n",
       "      <th>sub_id</th>\n",
       "    </tr>\n",
       "  </thead>\n",
       "  <tbody>\n",
       "    <tr>\n",
       "      <th>72</th>\n",
       "      <td>2017/1/1 0:00</td>\n",
       "      <td>9601320B01</td>\n",
       "      <td>520.0</td>\n",
       "      <td>FF103B</td>\n",
       "    </tr>\n",
       "    <tr>\n",
       "      <th>90</th>\n",
       "      <td>2017/1/1 0:00</td>\n",
       "      <td>9601320B01</td>\n",
       "      <td>519.0</td>\n",
       "      <td>FF103B</td>\n",
       "    </tr>\n",
       "    <tr>\n",
       "      <th>94</th>\n",
       "      <td>2017/1/1 0:00</td>\n",
       "      <td>9601320B01</td>\n",
       "      <td>520.0</td>\n",
       "      <td>FF103B</td>\n",
       "    </tr>\n",
       "    <tr>\n",
       "      <th>103</th>\n",
       "      <td>2017/1/1 0:01</td>\n",
       "      <td>9601320B01</td>\n",
       "      <td>519.0</td>\n",
       "      <td>FF103B</td>\n",
       "    </tr>\n",
       "    <tr>\n",
       "      <th>106</th>\n",
       "      <td>2017/1/1 0:01</td>\n",
       "      <td>9601320B01</td>\n",
       "      <td>520.0</td>\n",
       "      <td>FF103B</td>\n",
       "    </tr>\n",
       "  </tbody>\n",
       "</table>\n",
       "</div>"
      ],
      "text/plain": [
       "         date_time          id  number  sub_id\n",
       "72   2017/1/1 0:00  9601320B01   520.0  FF103B\n",
       "90   2017/1/1 0:00  9601320B01   519.0  FF103B\n",
       "94   2017/1/1 0:00  9601320B01   520.0  FF103B\n",
       "103  2017/1/1 0:01  9601320B01   519.0  FF103B\n",
       "106  2017/1/1 0:01  9601320B01   520.0  FF103B"
      ]
     },
     "execution_count": 8,
     "metadata": {},
     "output_type": "execute_result"
    }
   ],
   "source": [
    "# to get all the data of one particular machine \n",
    "Data=data[(data['id']=='9601320B01') & (data['sub_id']=='FF103B')]\n",
    "Data.head()"
   ]
  },
  {
   "cell_type": "code",
   "execution_count": 9,
   "metadata": {
    "collapsed": true
   },
   "outputs": [],
   "source": [
    "# to put all the data into a csv file\n",
    "Data.to_csv('N_cur.csv')"
   ]
  },
  {
   "cell_type": "code",
   "execution_count": 10,
   "metadata": {
    "collapsed": true
   },
   "outputs": [],
   "source": [
    "# to get the data for this particular machine into csv file called \"Data_2017.csv\"\n",
    "data = pd.read_csv('dataInfo_2017.CSV',header=None, names=[\"date_time\", \"id\",\"number\"])\n",
    "Data_2017=data[(data['id']=='9601320B01FF103B')]\n",
    "Data_2017.to_csv('N_cur_2017.csv')"
   ]
  },
  {
   "cell_type": "code",
   "execution_count": 11,
   "metadata": {},
   "outputs": [
    {
     "name": "stdout",
     "output_type": "stream",
     "text": [
      "date\n",
      "2017-01-01 00:00:00    520.0\n",
      "2017-01-01 00:00:00    519.0\n",
      "2017-01-01 00:00:00    520.0\n",
      "2017-01-01 00:01:00    519.0\n",
      "2017-01-01 00:01:00    520.0\n",
      "Name: number, dtype: float64\n"
     ]
    }
   ],
   "source": [
    "Data = pd.read_csv('N_cur_2017.csv')\n",
    "Data['date'] = pd.to_datetime(Data['date_time'], format='%Y-%m-%d')\n",
    "Data=Data.set_index(['date'])\n",
    "Data=Data.loc[:,'number']\n",
    "print(Data.head())\n",
    "# print(N_cur.dtypes)\n",
    "# print(N_cur.index)"
   ]
  },
  {
   "cell_type": "code",
   "execution_count": 12,
   "metadata": {},
   "outputs": [
    {
     "name": "stderr",
     "output_type": "stream",
     "text": [
      "F:\\anaconda\\envs\\individual-project\\lib\\site-packages\\ipykernel_launcher.py:4: RuntimeWarning: divide by zero encountered in log\n",
      "  after removing the cwd from sys.path.\n"
     ]
    },
    {
     "data": {
      "text/plain": [
       "[<matplotlib.lines.Line2D at 0x2419ccfee48>]"
      ]
     },
     "execution_count": 12,
     "metadata": {},
     "output_type": "execute_result"
    },
    {
     "data": {
      "image/png": "[encoded data removed]",
      "text/plain": [
       "<matplotlib.figure.Figure at 0x2419cd07080>"
      ]
     },
     "metadata": {},
     "output_type": "display_data"
    }
   ],
   "source": [
    "%matplotlib inline\n",
    "# to show the general tendency of the log of the current change with the time\n",
    "import matplotlib.pyplot as plt\n",
    "Data_log = np.log(Data)\n",
    "plt.plot(Data_log)"
   ]
  },
  {
   "cell_type": "code",
   "execution_count": 13,
   "metadata": {},
   "outputs": [
    {
     "name": "stdout",
     "output_type": "stream",
     "text": [
      "date\n",
      "2017-01-01 00:00:00    520.0\n",
      "2017-01-01 00:00:00    519.0\n",
      "2017-01-01 00:00:00    520.0\n",
      "2017-01-01 00:01:00    519.0\n",
      "2017-01-01 00:01:00    520.0\n",
      "Name: number, dtype: float64\n"
     ]
    },
    {
     "data": {
      "image/png": "[encoded data removed]",
      "text/plain": [
       "<matplotlib.figure.Figure at 0x2419c4f8a20>"
      ]
     },
     "metadata": {},
     "output_type": "display_data"
    }
   ],
   "source": [
    "# to get the data that can be used in prediction model\n",
    "from pandas import Series\n",
    "from matplotlib import pyplot\n",
    "import pandas as pd\n",
    "# load dataset\n",
    "series = Series.from_csv('N_cur_2017.csv', header=0)\n",
    "series = pd.read_csv('N_cur_2017.csv')\n",
    "series['date'] = pd.to_datetime(series['date_time'], format='%Y-%m-%d')\n",
    "series=series.set_index(['date'])\n",
    "series=series.loc[:,'number']\n",
    "series.to_csv('N_cur_2017_01_02.csv')\n",
    "print(series.head())\n",
    "# print(N_cur.dtypes)\n",
    "# display first few rows\n",
    "# line plot of dataset\n",
    "series.plot()\n",
    "pyplot.show()"
   ]
  },
  {
   "cell_type": "code",
   "execution_count": null,
   "metadata": {
    "collapsed": true
   },
   "outputs": [],
   "source": []
  }
 ],
 "metadata": {
  "kernelspec": {
   "display_name": "Python 3",
   "language": "python",
   "name": "python3"
  },
  "language_info": {
   "codemirror_mode": {
    "name": "ipython",
    "version": 3
   },
   "file_extension": ".py",
   "mimetype": "text/x-python",
   "name": "python",
   "nbconvert_exporter": "python",
   "pygments_lexer": "ipython3",
   "version": "3.5.1"
  }
 },
 "nbformat": 4,
 "nbformat_minor": 2
}
